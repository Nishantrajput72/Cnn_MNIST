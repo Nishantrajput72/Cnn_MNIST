{
  "nbformat": 4,
  "nbformat_minor": 0,
  "metadata": {
    "colab": {
      "name": "CNN--MNIST.ipynb",
      "provenance": [],
      "collapsed_sections": []
    },
    "kernelspec": {
      "name": "python3",
      "display_name": "Python 3"
    }
  },
  "cells": [
    {
      "cell_type": "markdown",
      "metadata": {
        "id": "Q_a2K0CIBeai",
        "colab_type": "text"
      },
      "source": [
        "# CNN_MNIST"
      ]
    },
    {
      "cell_type": "code",
      "metadata": {
        "id": "g4K9YiElBU1w",
        "colab_type": "code",
        "outputId": "fa0987a8-1e2c-4c54-aad7-ff0377cc2975",
        "colab": {
          "base_uri": "https://localhost:8080/",
          "height": 34
        }
      },
      "source": [
        "from __future__ import print_function\n",
        "import keras\n",
        "from keras.datasets import mnist\n",
        "from keras.models import Sequential\n",
        "from keras.layers import Dense, Dropout, Flatten\n",
        "from keras.layers import Conv2D, MaxPooling2D\n",
        "from keras import backend as K"
      ],
      "execution_count": 0,
      "outputs": [
        {
          "output_type": "stream",
          "text": [
            "Using TensorFlow backend.\n"
          ],
          "name": "stderr"
        }
      ]
    },
    {
      "cell_type": "code",
      "metadata": {
        "id": "tT5XrIGPOgZP",
        "colab_type": "code",
        "colab": {}
      },
      "source": [
        "%matplotlib inline\n",
        "import matplotlib.pyplot as plt\n",
        "import numpy as np\n",
        "import time\n",
        "# https://gist.github.com/greydanus/f6eee59eaf1d90fcb3b534a25362cea4\n",
        "# https://stackoverflow.com/a/14434334\n",
        "# this function is used to update the plots for each epoch and error\n",
        "def plt_dynamic(x, vy, ty, ax, colors=['b']):\n",
        "    ax.plot(x, vy, 'b', label=\"Validation Loss\")\n",
        "    ax.plot(x, ty, 'r', label=\"Train Loss\")\n",
        "    plt.legend()\n",
        "    plt.grid()\n",
        "    fig.canvas.draw()"
      ],
      "execution_count": 0,
      "outputs": []
    },
    {
      "cell_type": "code",
      "metadata": {
        "id": "c8XpzazCCRKR",
        "colab_type": "code",
        "colab": {}
      },
      "source": [
        "batch_size = 128\n",
        "num_classes = 10\n",
        "epochs = 12\n"
      ],
      "execution_count": 0,
      "outputs": []
    },
    {
      "cell_type": "code",
      "metadata": {
        "id": "XBL332CXCRX-",
        "colab_type": "code",
        "outputId": "51ad3864-d2cc-48eb-e6bb-3df316568ec5",
        "colab": {
          "base_uri": "https://localhost:8080/",
          "height": 102
        }
      },
      "source": [
        "img_rows, img_cols = 28, 28\n",
        "\n",
        "# the data, split between train and test sets\n",
        "(x_train, y_train), (x_test, y_test) = mnist.load_data()\n",
        "\n",
        "if K.image_data_format() == 'channels_first':\n",
        "    x_train = x_train.reshape(x_train.shape[0], 1, img_rows, img_cols)\n",
        "    x_test = x_test.reshape(x_test.shape[0], 1, img_rows, img_cols)\n",
        "    input_shape = (1, img_rows, img_cols)\n",
        "else:\n",
        "    x_train = x_train.reshape(x_train.shape[0], img_rows, img_cols, 1)\n",
        "    x_test = x_test.reshape(x_test.shape[0], img_rows, img_cols, 1)\n",
        "    input_shape = (img_rows, img_cols, 1)\n",
        "\n",
        "x_train = x_train.astype('float32')\n",
        "x_test = x_test.astype('float32')\n",
        "x_train /= 255\n",
        "x_test /= 255\n",
        "print('x_train shape:', x_train.shape)\n",
        "print(x_train.shape[0], 'train samples')\n",
        "print(x_test.shape[0], 'test samples')\n",
        "\n",
        "# convert class vectors to binary class matrices\n",
        "y_train = keras.utils.to_categorical(y_train, num_classes)\n",
        "y_test = keras.utils.to_categorical(y_test, num_classes)\n"
      ],
      "execution_count": 0,
      "outputs": [
        {
          "output_type": "stream",
          "text": [
            "Downloading data from https://s3.amazonaws.com/img-datasets/mnist.npz\n",
            "11493376/11490434 [==============================] - 0s 0us/step\n",
            "x_train shape: (60000, 28, 28, 1)\n",
            "60000 train samples\n",
            "10000 test samples\n"
          ],
          "name": "stdout"
        }
      ]
    },
    {
      "cell_type": "markdown",
      "metadata": {
        "id": "aU8Mof-9l9Rn",
        "colab_type": "text"
      },
      "source": [
        "## 2 convolution layers + (3,3) kernel"
      ]
    },
    {
      "cell_type": "code",
      "metadata": {
        "id": "POhz46eZCRa6",
        "colab_type": "code",
        "outputId": "0899c519-4687-47f0-aaf4-38c2c7b9eca9",
        "colab": {
          "base_uri": "https://localhost:8080/",
          "height": 476
        }
      },
      "source": [
        "from keras.layers.normalization import BatchNormalization\n",
        "\n",
        "model = Sequential()\n",
        "model.add(Conv2D(32, kernel_size=(3, 3),activation='relu',input_shape=input_shape))\n",
        "model.add(Conv2D(64, (3, 3), activation='relu'))\n",
        "model.add(MaxPooling2D(pool_size=(2, 2)))\n",
        "model.add(Dropout(0.25))\n",
        "model.add(Flatten())\n",
        "model.add(BatchNormalization())\n",
        "model.add(Dense(128, activation='relu'))\n",
        "model.add(Dropout(0.5))\n",
        "model.add(Dense(num_classes, activation='softmax'))\n",
        "\n",
        "model.compile(loss=keras.losses.categorical_crossentropy,optimizer=keras.optimizers.Adadelta(),metrics=['accuracy'])\n",
        "\n",
        "history = model.fit(x_train, y_train,batch_size=batch_size,epochs=epochs,verbose=1,  validation_data=(x_test, y_test))\n",
        "\n",
        "score = model.evaluate(x_test, y_test, verbose=0)\n",
        "print('Test loss:', score[0])\n",
        "print('Test accuracy:', score[1])"
      ],
      "execution_count": 0,
      "outputs": [
        {
          "output_type": "stream",
          "text": [
            "Train on 60000 samples, validate on 10000 samples\n",
            "Epoch 1/12\n",
            "60000/60000 [==============================] - 165s 3ms/step - loss: 0.1557 - acc: 0.9529 - val_loss: 0.0580 - val_acc: 0.9821\n",
            "Epoch 2/12\n",
            "60000/60000 [==============================] - 164s 3ms/step - loss: 0.0696 - acc: 0.9801 - val_loss: 0.0348 - val_acc: 0.9884\n",
            "Epoch 3/12\n",
            "60000/60000 [==============================] - 165s 3ms/step - loss: 0.0552 - acc: 0.9838 - val_loss: 0.0375 - val_acc: 0.9888\n",
            "Epoch 4/12\n",
            "60000/60000 [==============================] - 164s 3ms/step - loss: 0.0446 - acc: 0.9873 - val_loss: 0.0355 - val_acc: 0.9901\n",
            "Epoch 5/12\n",
            "60000/60000 [==============================] - 164s 3ms/step - loss: 0.0385 - acc: 0.9887 - val_loss: 0.0373 - val_acc: 0.9899\n",
            "Epoch 6/12\n",
            "60000/60000 [==============================] - 164s 3ms/step - loss: 0.0351 - acc: 0.9899 - val_loss: 0.0422 - val_acc: 0.9895\n",
            "Epoch 7/12\n",
            "60000/60000 [==============================] - 164s 3ms/step - loss: 0.0330 - acc: 0.9908 - val_loss: 0.0309 - val_acc: 0.9910\n",
            "Epoch 8/12\n",
            "60000/60000 [==============================] - 164s 3ms/step - loss: 0.0294 - acc: 0.9914 - val_loss: 0.0371 - val_acc: 0.9898\n",
            "Epoch 9/12\n",
            "60000/60000 [==============================] - 163s 3ms/step - loss: 0.0273 - acc: 0.9925 - val_loss: 0.0351 - val_acc: 0.9914\n",
            "Epoch 10/12\n",
            "60000/60000 [==============================] - 164s 3ms/step - loss: 0.0256 - acc: 0.9924 - val_loss: 0.0374 - val_acc: 0.9901\n",
            "Epoch 11/12\n",
            "60000/60000 [==============================] - 163s 3ms/step - loss: 0.0225 - acc: 0.9942 - val_loss: 0.0465 - val_acc: 0.9910\n",
            "Epoch 12/12\n",
            "60000/60000 [==============================] - 165s 3ms/step - loss: 0.0231 - acc: 0.9934 - val_loss: 0.0278 - val_acc: 0.9925\n",
            "Test loss: 0.027840356919738088\n",
            "Test accuracy: 0.9925\n"
          ],
          "name": "stdout"
        }
      ]
    },
    {
      "cell_type": "code",
      "metadata": {
        "id": "os3q5lV8CRi_",
        "colab_type": "code",
        "outputId": "66ee02ad-78a8-4348-8809-6b86ed2b9a0e",
        "colab": {
          "base_uri": "https://localhost:8080/",
          "height": 283
        }
      },
      "source": [
        "x = list(range(1,epochs+1))\n",
        "vy = history.history['val_loss']\n",
        "ty = history.history['loss']\n",
        "fig,ax = plt.subplots(1,1)\n",
        "ax.set_xlabel('epoch') \n",
        "ax.set_ylabel('Categorical Crossentropy Loss')\n",
        "plt_dynamic(x, vy, ty, ax)"
      ],
      "execution_count": 0,
      "outputs": [
        {
          "output_type": "display_data",
          "data": {
            "image/png": "[encoded data removed]",
            "text/plain": [
              "<Figure size 432x288 with 1 Axes>"
            ]
          },
          "metadata": {
            "tags": []
          }
        }
      ]
    },
    {
      "cell_type": "markdown",
      "metadata": {
        "id": "O-RDGv4TlxDG",
        "colab_type": "text"
      },
      "source": [
        "## 3 convolution layer + (5,5) kernel"
      ]
    },
    {
      "cell_type": "code",
      "metadata": {
        "id": "uxEyDFuLZS8S",
        "colab_type": "code",
        "outputId": "313002d6-c8ed-4794-850f-28edea2ce521",
        "colab": {
          "base_uri": "https://localhost:8080/",
          "height": 561
        }
      },
      "source": [
        "model = Sequential()\n",
        "model.add(Conv2D(64, kernel_size=(5, 5),activation='relu',input_shape=input_shape, padding='same', kernel_initializer='he_normal'))\n",
        "model.add(Conv2D(32, (5, 5), activation='relu', kernel_initializer='he_normal'))\n",
        "model.add(MaxPooling2D(pool_size=(2, 2)))\n",
        "model.add(Conv2D(32, (5, 5), activation='relu', kernel_initializer='he_normal'))\n",
        "model.add(MaxPooling2D(pool_size=(2, 2)))\n",
        "model.add(Dropout(0.5))\n",
        "model.add(Flatten())\n",
        "model.add(BatchNormalization())\n",
        "model.add(Dense(128, activation='relu', kernel_initializer='he_normal'))\n",
        "model.add(BatchNormalization())\n",
        "\n",
        "model.add(Dropout(0.5))\n",
        "model.add(Dense(num_classes, activation='softmax'))\n",
        "model.summary()\n"
      ],
      "execution_count": 0,
      "outputs": [
        {
          "output_type": "stream",
          "text": [
            "Model: \"sequential_8\"\n",
            "_________________________________________________________________\n",
            "Layer (type)                 Output Shape              Param #   \n",
            "=================================================================\n",
            "conv2d_41 (Conv2D)           (None, 28, 28, 64)        1664      \n",
            "_________________________________________________________________\n",
            "conv2d_42 (Conv2D)           (None, 24, 24, 32)        51232     \n",
            "_________________________________________________________________\n",
            "max_pooling2d_13 (MaxPooling (None, 12, 12, 32)        0         \n",
            "_________________________________________________________________\n",
            "conv2d_43 (Conv2D)           (None, 8, 8, 32)          25632     \n",
            "_________________________________________________________________\n",
            "max_pooling2d_14 (MaxPooling (None, 4, 4, 32)          0         \n",
            "_________________________________________________________________\n",
            "dropout_16 (Dropout)         (None, 4, 4, 32)          0         \n",
            "_________________________________________________________________\n",
            "flatten_7 (Flatten)          (None, 512)               0         \n",
            "_________________________________________________________________\n",
            "batch_normalization_11 (Batc (None, 512)               2048      \n",
            "_________________________________________________________________\n",
            "dense_14 (Dense)             (None, 128)               65664     \n",
            "_________________________________________________________________\n",
            "batch_normalization_12 (Batc (None, 128)               512       \n",
            "_________________________________________________________________\n",
            "dropout_17 (Dropout)         (None, 128)               0         \n",
            "_________________________________________________________________\n",
            "dense_15 (Dense)             (None, 10)                1290      \n",
            "=================================================================\n",
            "Total params: 148,042\n",
            "Trainable params: 146,762\n",
            "Non-trainable params: 1,280\n",
            "_________________________________________________________________\n"
          ],
          "name": "stdout"
        }
      ]
    },
    {
      "cell_type": "code",
      "metadata": {
        "id": "0lji20miZTC8",
        "colab_type": "code",
        "outputId": "5b08a80b-c4ce-424b-b02d-2a3d8ea731a1",
        "colab": {
          "base_uri": "https://localhost:8080/",
          "height": 476
        }
      },
      "source": [
        "model.compile(loss=keras.losses.categorical_crossentropy,optimizer=keras.optimizers.Adam(),metrics=['accuracy'])\n",
        "\n",
        "history = model.fit(x_train, y_train,batch_size=batch_size,epochs=epochs,verbose=1,  validation_data=(x_test, y_test))\n",
        "\n",
        "score = model.evaluate(x_test, y_test, verbose=0)\n",
        "print('Test loss:', score[0])\n",
        "print('Test accuracy:', score[1])"
      ],
      "execution_count": 0,
      "outputs": [
        {
          "output_type": "stream",
          "text": [
            "Train on 60000 samples, validate on 10000 samples\n",
            "Epoch 1/12\n",
            "60000/60000 [==============================] - 442s 7ms/step - loss: 0.4140 - acc: 0.8737 - val_loss: 0.0544 - val_acc: 0.9828\n",
            "Epoch 2/12\n",
            "60000/60000 [==============================] - 439s 7ms/step - loss: 0.1123 - acc: 0.9657 - val_loss: 0.0556 - val_acc: 0.9812\n",
            "Epoch 3/12\n",
            "60000/60000 [==============================] - 439s 7ms/step - loss: 0.0855 - acc: 0.9742 - val_loss: 0.0295 - val_acc: 0.9908\n",
            "Epoch 4/12\n",
            "60000/60000 [==============================] - 438s 7ms/step - loss: 0.0689 - acc: 0.9792 - val_loss: 0.0247 - val_acc: 0.9919\n",
            "Epoch 5/12\n",
            "60000/60000 [==============================] - 440s 7ms/step - loss: 0.0580 - acc: 0.9829 - val_loss: 0.0233 - val_acc: 0.9927\n",
            "Epoch 6/12\n",
            "60000/60000 [==============================] - 439s 7ms/step - loss: 0.0506 - acc: 0.9842 - val_loss: 0.0234 - val_acc: 0.9922\n",
            "Epoch 7/12\n",
            "60000/60000 [==============================] - 439s 7ms/step - loss: 0.0480 - acc: 0.9848 - val_loss: 0.0224 - val_acc: 0.9926\n",
            "Epoch 8/12\n",
            "60000/60000 [==============================] - 438s 7ms/step - loss: 0.0439 - acc: 0.9861 - val_loss: 0.0246 - val_acc: 0.9923\n",
            "Epoch 9/12\n",
            "60000/60000 [==============================] - 440s 7ms/step - loss: 0.0435 - acc: 0.9868 - val_loss: 0.0190 - val_acc: 0.9935\n",
            "Epoch 10/12\n",
            "60000/60000 [==============================] - 439s 7ms/step - loss: 0.0399 - acc: 0.9879 - val_loss: 0.0197 - val_acc: 0.9935\n",
            "Epoch 11/12\n",
            "60000/60000 [==============================] - 456s 8ms/step - loss: 0.0362 - acc: 0.9887 - val_loss: 0.0208 - val_acc: 0.9923\n",
            "Epoch 12/12\n",
            "60000/60000 [==============================] - 471s 8ms/step - loss: 0.0347 - acc: 0.9893 - val_loss: 0.0205 - val_acc: 0.9938\n",
            "Test loss: 0.020501161785630394\n",
            "Test accuracy: 0.9938\n"
          ],
          "name": "stdout"
        }
      ]
    },
    {
      "cell_type": "code",
      "metadata": {
        "id": "pLuw1aOij6G5",
        "colab_type": "code",
        "outputId": "c928ada2-236d-42cc-dfc7-959e4efc3429",
        "colab": {
          "base_uri": "https://localhost:8080/",
          "height": 283
        }
      },
      "source": [
        "x = list(range(1,epochs+1))\n",
        "vy = history.history['val_loss']\n",
        "ty = history.history['loss']\n",
        "fig,ax = plt.subplots(1,1)\n",
        "ax.set_xlabel('epoch') \n",
        "ax.set_ylabel('Categorical Crossentropy Loss')\n",
        "plt_dynamic(x, vy, ty, ax)"
      ],
      "execution_count": 0,
      "outputs": [
        {
          "output_type": "display_data",
          "data": {
            "image/png": "[encoded data removed]",
            "text/plain": [
              "<Figure size 432x288 with 1 Axes>"
            ]
          },
          "metadata": {
            "tags": []
          }
        }
      ]
    },
    {
      "cell_type": "markdown",
      "metadata": {
        "id": "YDqc1stFksC2",
        "colab_type": "text"
      },
      "source": [
        "## 5 convolution layer + 3*3 kernel + BN + Dropout"
      ]
    },
    {
      "cell_type": "code",
      "metadata": {
        "id": "01umMlApZTJW",
        "colab_type": "code",
        "outputId": "5b8b2a96-4393-4d49-9270-1968568b5153",
        "colab": {
          "base_uri": "https://localhost:8080/",
          "height": 765
        }
      },
      "source": [
        "from keras.layers.normalization import BatchNormalization\n",
        "\n",
        "model = Sequential()\n",
        "model.add(Conv2D(64, kernel_size=(3, 3),activation='relu',input_shape=input_shape, padding='same', kernel_initializer='he_normal'))\n",
        "model.add(Conv2D(64, (3, 3), activation='relu', kernel_initializer='he_normal'))\n",
        "model.add(MaxPooling2D(pool_size=(2, 2)))\n",
        "model.add(Conv2D(16, (3, 3), activation='relu', kernel_initializer='he_normal'))\n",
        "model.add(Conv2D(32, (3, 3), activation='relu', kernel_initializer='he_normal'))\n",
        "model.add(Dropout(0.5))\n",
        "model.add(BatchNormalization())\n",
        "model.add(Conv2D(16, (3, 3), activation='relu', kernel_initializer='he_normal'))\n",
        "model.add(Dropout(0.5))\n",
        "model.add(Flatten())\n",
        "model.add(BatchNormalization())\n",
        "model.add(Dense(128, activation='relu', kernel_initializer='he_normal'))\n",
        "model.add(BatchNormalization())\n",
        "\n",
        "model.add(Dropout(0.5))\n",
        "model.add(Dense(64, activation='relu', kernel_initializer='he_normal'))\n",
        "model.add(BatchNormalization())\n",
        "\n",
        "model.add(Dropout(0.5))\n",
        "model.add(Dense(num_classes, activation='softmax'))\n",
        "model.summary()"
      ],
      "execution_count": 0,
      "outputs": [
        {
          "output_type": "stream",
          "text": [
            "Model: \"sequential_4\"\n",
            "_________________________________________________________________\n",
            "Layer (type)                 Output Shape              Param #   \n",
            "=================================================================\n",
            "conv2d_15 (Conv2D)           (None, 28, 28, 64)        640       \n",
            "_________________________________________________________________\n",
            "conv2d_16 (Conv2D)           (None, 26, 26, 64)        36928     \n",
            "_________________________________________________________________\n",
            "max_pooling2d_6 (MaxPooling2 (None, 13, 13, 64)        0         \n",
            "_________________________________________________________________\n",
            "conv2d_17 (Conv2D)           (None, 11, 11, 16)        9232      \n",
            "_________________________________________________________________\n",
            "conv2d_18 (Conv2D)           (None, 9, 9, 32)          4640      \n",
            "_________________________________________________________________\n",
            "dropout_8 (Dropout)          (None, 9, 9, 32)          0         \n",
            "_________________________________________________________________\n",
            "batch_normalization_7 (Batch (None, 9, 9, 32)          128       \n",
            "_________________________________________________________________\n",
            "conv2d_19 (Conv2D)           (None, 7, 7, 16)          4624      \n",
            "_________________________________________________________________\n",
            "dropout_9 (Dropout)          (None, 7, 7, 16)          0         \n",
            "_________________________________________________________________\n",
            "flatten_3 (Flatten)          (None, 784)               0         \n",
            "_________________________________________________________________\n",
            "batch_normalization_8 (Batch (None, 784)               3136      \n",
            "_________________________________________________________________\n",
            "dense_5 (Dense)              (None, 128)               100480    \n",
            "_________________________________________________________________\n",
            "batch_normalization_9 (Batch (None, 128)               512       \n",
            "_________________________________________________________________\n",
            "dropout_10 (Dropout)         (None, 128)               0         \n",
            "_________________________________________________________________\n",
            "dense_6 (Dense)              (None, 64)                8256      \n",
            "_________________________________________________________________\n",
            "batch_normalization_10 (Batc (None, 64)                256       \n",
            "_________________________________________________________________\n",
            "dropout_11 (Dropout)         (None, 64)                0         \n",
            "_________________________________________________________________\n",
            "dense_7 (Dense)              (None, 10)                650       \n",
            "=================================================================\n",
            "Total params: 169,482\n",
            "Trainable params: 167,466\n",
            "Non-trainable params: 2,016\n",
            "_________________________________________________________________\n"
          ],
          "name": "stdout"
        }
      ]
    },
    {
      "cell_type": "code",
      "metadata": {
        "id": "vWLKdqyrZTOY",
        "colab_type": "code",
        "outputId": "1aba809f-7356-40e0-e791-ca00b70f84d5",
        "colab": {
          "base_uri": "https://localhost:8080/",
          "height": 581
        }
      },
      "source": [
        "model.compile(loss=keras.losses.categorical_crossentropy,optimizer=keras.optimizers.Adam(),metrics=['accuracy'])\n",
        "\n",
        "history = model.fit(x_train, y_train,batch_size=batch_size,epochs=epochs,verbose=1,  validation_data=(x_test, y_test))\n",
        "\n",
        "score = model.evaluate(x_test, y_test, verbose=0)\n",
        "print('Test loss:', score[0])\n",
        "print('Test accuracy:', score[1])"
      ],
      "execution_count": 0,
      "outputs": [
        {
          "output_type": "stream",
          "text": [
            "WARNING:tensorflow:From /usr/local/lib/python3.6/dist-packages/keras/optimizers.py:793: The name tf.train.Optimizer is deprecated. Please use tf.compat.v1.train.Optimizer instead.\n",
            "\n",
            "WARNING:tensorflow:From /usr/local/lib/python3.6/dist-packages/tensorflow/python/ops/math_grad.py:1250: add_dispatch_support.<locals>.wrapper (from tensorflow.python.ops.array_ops) is deprecated and will be removed in a future version.\n",
            "Instructions for updating:\n",
            "Use tf.where in 2.0, which has the same broadcast rule as np.where\n",
            "Train on 60000 samples, validate on 10000 samples\n",
            "Epoch 1/12\n",
            "60000/60000 [==============================] - 330s 6ms/step - loss: 0.9857 - acc: 0.6956 - val_loss: 0.1360 - val_acc: 0.9577\n",
            "Epoch 2/12\n",
            "60000/60000 [==============================] - 328s 5ms/step - loss: 0.2575 - acc: 0.9264 - val_loss: 0.0773 - val_acc: 0.9738\n",
            "Epoch 3/12\n",
            "60000/60000 [==============================] - 323s 5ms/step - loss: 0.1631 - acc: 0.9538 - val_loss: 0.0542 - val_acc: 0.9830\n",
            "Epoch 4/12\n",
            "60000/60000 [==============================] - 317s 5ms/step - loss: 0.1245 - acc: 0.9656 - val_loss: 0.0412 - val_acc: 0.9874\n",
            "Epoch 5/12\n",
            "60000/60000 [==============================] - 319s 5ms/step - loss: 0.1076 - acc: 0.9697 - val_loss: 0.0414 - val_acc: 0.9870\n",
            "Epoch 6/12\n",
            "60000/60000 [==============================] - 317s 5ms/step - loss: 0.0936 - acc: 0.9731 - val_loss: 0.0352 - val_acc: 0.9892\n",
            "Epoch 7/12\n",
            "60000/60000 [==============================] - 313s 5ms/step - loss: 0.0821 - acc: 0.9773 - val_loss: 0.0406 - val_acc: 0.9894\n",
            "Epoch 8/12\n",
            "60000/60000 [==============================] - 310s 5ms/step - loss: 0.0782 - acc: 0.9781 - val_loss: 0.0796 - val_acc: 0.9771\n",
            "Epoch 9/12\n",
            "60000/60000 [==============================] - 309s 5ms/step - loss: 0.0708 - acc: 0.9801 - val_loss: 0.0278 - val_acc: 0.9922\n",
            "Epoch 10/12\n",
            "60000/60000 [==============================] - 309s 5ms/step - loss: 0.0653 - acc: 0.9820 - val_loss: 0.0293 - val_acc: 0.9921\n",
            "Epoch 11/12\n",
            "60000/60000 [==============================] - 309s 5ms/step - loss: 0.0612 - acc: 0.9834 - val_loss: 0.0228 - val_acc: 0.9942\n",
            "Epoch 12/12\n",
            "60000/60000 [==============================] - 308s 5ms/step - loss: 0.0584 - acc: 0.9834 - val_loss: 0.0222 - val_acc: 0.9928\n",
            "Test loss: 0.022226755491792573\n",
            "Test accuracy: 0.9928\n"
          ],
          "name": "stdout"
        }
      ]
    },
    {
      "cell_type": "code",
      "metadata": {
        "id": "0q2ISbu1GEJK",
        "colab_type": "code",
        "outputId": "34b367be-8cd0-472d-a094-bc07fc3bf922",
        "colab": {
          "base_uri": "https://localhost:8080/",
          "height": 283
        }
      },
      "source": [
        "x = list(range(1,epochs+1))\n",
        "vy = history.history['val_loss']\n",
        "ty = history.history['loss']\n",
        "fig,ax = plt.subplots(1,1)\n",
        "ax.set_xlabel('epoch') \n",
        "ax.set_ylabel('Categorical Crossentropy Loss')\n",
        "plt_dynamic(x, vy, ty, ax)"
      ],
      "execution_count": 0,
      "outputs": [
        {
          "output_type": "display_data",
          "data": {
            "image/png": "[encoded data removed]",
            "text/plain": [
              "<Figure size 432x288 with 1 Axes>"
            ]
          },
          "metadata": {
            "tags": []
          }
        }
      ]
    },
    {
      "cell_type": "markdown",
      "metadata": {
        "id": "09HWD7i3lC5a",
        "colab_type": "text"
      },
      "source": [
        "## 7 convolution layer + (3,3) kernel + (2,2) kernel + 2 max pool layer\n",
        "\n"
      ]
    },
    {
      "cell_type": "code",
      "metadata": {
        "id": "1DegB2C6RR31",
        "colab_type": "code",
        "outputId": "68e24849-1d94-478e-a1b9-589a8ccb46af",
        "colab": {
          "base_uri": "https://localhost:8080/",
          "height": 561
        }
      },
      "source": [
        "model1= Sequential()\n",
        "model1.add(Conv2D(64, kernel_size=(3, 3),activation='relu',input_shape=input_shape,padding = \"same\", kernel_initializer='he_normal'))\n",
        "model1.add(Conv2D(64, (3, 3), activation='relu',padding = \"same\", kernel_initializer='he_normal'))\n",
        "model1.add(MaxPooling2D(pool_size=(2, 2)))\n",
        "model1.add(Conv2D(32, (2, 2), activation='relu', kernel_initializer='he_normal'))\n",
        "model1.add(Conv2D(32, (2, 2), activation='relu', kernel_initializer='he_normal'))\n",
        "model1.add(MaxPooling2D(pool_size=(2, 2)))\n",
        "\n",
        "model1.add(Conv2D(16, (2, 2), activation='relu', kernel_initializer='he_normal'))\n",
        "model1.add(Conv2D(16, (2, 2), activation='relu', kernel_initializer='he_normal'))\n",
        "model1.add(Conv2D(16, (2, 2), activation='relu', kernel_initializer='he_normal'))\n",
        "model1.add(Flatten())\n",
        "model1.add(Dense(64, activation='relu', kernel_initializer='he_normal'))\n",
        "\n",
        "model1.add(Dense(num_classes, activation='softmax'))\n",
        "model1.summary()"
      ],
      "execution_count": 0,
      "outputs": [
        {
          "output_type": "stream",
          "text": [
            "Model: \"sequential_9\"\n",
            "_________________________________________________________________\n",
            "Layer (type)                 Output Shape              Param #   \n",
            "=================================================================\n",
            "conv2d_44 (Conv2D)           (None, 28, 28, 64)        640       \n",
            "_________________________________________________________________\n",
            "conv2d_45 (Conv2D)           (None, 28, 28, 64)        36928     \n",
            "_________________________________________________________________\n",
            "max_pooling2d_15 (MaxPooling (None, 14, 14, 64)        0         \n",
            "_________________________________________________________________\n",
            "conv2d_46 (Conv2D)           (None, 13, 13, 32)        8224      \n",
            "_________________________________________________________________\n",
            "conv2d_47 (Conv2D)           (None, 12, 12, 32)        4128      \n",
            "_________________________________________________________________\n",
            "max_pooling2d_16 (MaxPooling (None, 6, 6, 32)          0         \n",
            "_________________________________________________________________\n",
            "conv2d_48 (Conv2D)           (None, 5, 5, 16)          2064      \n",
            "_________________________________________________________________\n",
            "conv2d_49 (Conv2D)           (None, 4, 4, 16)          1040      \n",
            "_________________________________________________________________\n",
            "conv2d_50 (Conv2D)           (None, 3, 3, 16)          1040      \n",
            "_________________________________________________________________\n",
            "flatten_8 (Flatten)          (None, 144)               0         \n",
            "_________________________________________________________________\n",
            "dense_16 (Dense)             (None, 64)                9280      \n",
            "_________________________________________________________________\n",
            "dense_17 (Dense)             (None, 10)                650       \n",
            "=================================================================\n",
            "Total params: 63,994\n",
            "Trainable params: 63,994\n",
            "Non-trainable params: 0\n",
            "_________________________________________________________________\n"
          ],
          "name": "stdout"
        }
      ]
    },
    {
      "cell_type": "code",
      "metadata": {
        "id": "QkITUjEYYE1B",
        "colab_type": "code",
        "outputId": "c3d06194-7170-4703-c9ab-ecdcd0f876dd",
        "colab": {
          "base_uri": "https://localhost:8080/",
          "height": 476
        }
      },
      "source": [
        "model1.compile(loss=keras.losses.categorical_crossentropy,optimizer=keras.optimizers.Adam(),metrics=['accuracy'])\n",
        "\n",
        "hist = model1.fit(x_train, y_train,batch_size=batch_size,epochs=epochs,verbose=1,  validation_data=(x_test, y_test))\n",
        "\n",
        "score = model1.evaluate(x_test, y_test, verbose=0)\n",
        "print('Test loss:', score[0])\n",
        "print('Test accuracy:', score[1])"
      ],
      "execution_count": 0,
      "outputs": [
        {
          "output_type": "stream",
          "text": [
            "Train on 60000 samples, validate on 10000 samples\n",
            "Epoch 1/12\n",
            "60000/60000 [==============================] - 353s 6ms/step - loss: 0.2489 - acc: 0.9201 - val_loss: 0.1111 - val_acc: 0.9665\n",
            "Epoch 2/12\n",
            "60000/60000 [==============================] - 352s 6ms/step - loss: 0.0725 - acc: 0.9777 - val_loss: 0.0495 - val_acc: 0.9855\n",
            "Epoch 3/12\n",
            "60000/60000 [==============================] - 345s 6ms/step - loss: 0.0520 - acc: 0.9841 - val_loss: 0.0550 - val_acc: 0.9836\n",
            "Epoch 4/12\n",
            "60000/60000 [==============================] - 342s 6ms/step - loss: 0.0417 - acc: 0.9871 - val_loss: 0.0421 - val_acc: 0.9868\n",
            "Epoch 5/12\n",
            "60000/60000 [==============================] - 343s 6ms/step - loss: 0.0384 - acc: 0.9877 - val_loss: 0.0348 - val_acc: 0.9901\n",
            "Epoch 6/12\n",
            "60000/60000 [==============================] - 339s 6ms/step - loss: 0.0311 - acc: 0.9900 - val_loss: 0.0359 - val_acc: 0.9890\n",
            "Epoch 7/12\n",
            "60000/60000 [==============================] - 338s 6ms/step - loss: 0.0279 - acc: 0.9911 - val_loss: 0.0327 - val_acc: 0.9889\n",
            "Epoch 8/12\n",
            "60000/60000 [==============================] - 332s 6ms/step - loss: 0.0271 - acc: 0.9915 - val_loss: 0.0405 - val_acc: 0.9873\n",
            "Epoch 9/12\n",
            "60000/60000 [==============================] - 332s 6ms/step - loss: 0.0248 - acc: 0.9919 - val_loss: 0.0423 - val_acc: 0.9866\n",
            "Epoch 10/12\n",
            "60000/60000 [==============================] - 339s 6ms/step - loss: 0.0212 - acc: 0.9928 - val_loss: 0.0334 - val_acc: 0.9911\n",
            "Epoch 11/12\n",
            "60000/60000 [==============================] - 348s 6ms/step - loss: 0.0179 - acc: 0.9940 - val_loss: 0.0461 - val_acc: 0.9868\n",
            "Epoch 12/12\n",
            "60000/60000 [==============================] - 332s 6ms/step - loss: 0.0182 - acc: 0.9942 - val_loss: 0.0361 - val_acc: 0.9898\n",
            "Test loss: 0.03613125419442768\n",
            "Test accuracy: 0.9898\n"
          ],
          "name": "stdout"
        }
      ]
    },
    {
      "cell_type": "code",
      "metadata": {
        "id": "3GP_vgS7kL4G",
        "colab_type": "code",
        "outputId": "0bc9542e-5dcb-4de9-af55-91ca2dced537",
        "colab": {
          "base_uri": "https://localhost:8080/",
          "height": 283
        }
      },
      "source": [
        "x = list(range(1,epochs+1))\n",
        "vy = hist.history['val_loss']\n",
        "ty = hist.history['loss']\n",
        "fig,ax = plt.subplots(1,1)\n",
        "ax.set_xlabel('epoch') \n",
        "ax.set_ylabel('Categorical Crossentropy Loss')\n",
        "plt_dynamic(x, vy, ty, ax)"
      ],
      "execution_count": 0,
      "outputs": [
        {
          "output_type": "display_data",
          "data": {
            "image/png": "[encoded data removed]",
            "text/plain": [
              "<Figure size 432x288 with 1 Axes>"
            ]
          },
          "metadata": {
            "tags": []
          }
        }
      ]
    },
    {
      "cell_type": "code",
      "metadata": {
        "id": "JEZ48SF_md6A",
        "colab_type": "code",
        "outputId": "6d1cfd42-333e-4875-d2a0-28f659cf3036",
        "colab": {
          "base_uri": "https://localhost:8080/",
          "height": 153
        }
      },
      "source": [
        "#http://zetcode.com/python/prettytable/\n",
        "from prettytable import PrettyTable\n",
        "    \n",
        "x = PrettyTable()\n",
        "\n",
        "x.field_names = [\" # convolution layers\",\"# max pool layers\", \"kernel size\", \"Score\", \"Accuracy\"]\n",
        "\n",
        "x.add_row([2,1 ,\"3*3\", 0.027, 0.9925 ])\n",
        "x.add_row([3,2 ,\"5*5\", 0.020, 0.9938 ])\n",
        "x.add_row([5,1 ,\"3*3\", 0.022, 0.9928 ])\n",
        "x.add_row([7,2 ,\"2*2, 3*3\", 0.036, 0.9898 ]) # no batch normalization and no dropout\n",
        "\n",
        "\n",
        "     \n",
        "print(x)"
      ],
      "execution_count": 0,
      "outputs": [
        {
          "output_type": "stream",
          "text": [
            "+-----------------------+-------------------+-------------+-------+----------+\n",
            "|  # convolution layers | # max pool layers | kernel size | Score | Accuracy |\n",
            "+-----------------------+-------------------+-------------+-------+----------+\n",
            "|           2           |         1         |     3*3     | 0.027 |  0.9925  |\n",
            "|           3           |         2         |     5*5     |  0.02 |  0.9938  |\n",
            "|           5           |         1         |     3*3     | 0.022 |  0.9928  |\n",
            "|           7           |         2         |   2*2, 3*3  | 0.036 |  0.9898  |\n",
            "+-----------------------+-------------------+-------------+-------+----------+\n"
          ],
          "name": "stdout"
        }
      ]
    },
    {
      "cell_type": "markdown",
      "metadata": {
        "id": "JqnEVTFp6syy",
        "colab_type": "text"
      },
      "source": [
        "# CONCLUSION:"
      ]
    },
    {
      "cell_type": "markdown",
      "metadata": {
        "id": "yHcHXjfF63k3",
        "colab_type": "text"
      },
      "source": [
        "1. Used different convolution and max pooling layers in different architecture.\n",
        "2. Tried with and without dropout and batch-normalization.\n",
        "3. Tried with and without weight initialization.\n",
        "4.  2nd architecture with 3 convolution layers and 2 max pool layers produced the best result."
      ]
    }
  ]
}